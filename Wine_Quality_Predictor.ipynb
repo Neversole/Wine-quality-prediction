{
 "cells": [
  {
   "cell_type": "code",
   "execution_count": null,
   "id": "342ee4c2",
   "metadata": {},
   "outputs": [],
   "source": [
    "#title: \"Wine Quality Prediction\"\n",
    "#author: \"Natalie Eversole\"\n",
    "#date: \"2022-07-21\""
   ]
  },
  {
   "cell_type": "code",
   "execution_count": null,
   "id": "f04c699c",
   "metadata": {},
   "outputs": [],
   "source": [
    "import pandas as pd\n",
    "import numpy as np\n",
    "import matplotlib\n",
    "import matplotlib.pyplot as plt\n",
    "import seaborn as sns\n",
    "from sklearn.linear_model import LinearRegression\n",
    "from sklearn.model_selection import train_test_split\n",
    "from sklearn.preprocessing import StandardScaler\n",
    "from sklearn.ensemble import RandomForestClassifier\n",
    "from sklearn.datasets import make_classification\n",
    "from sklearn.metrics import classification_report\n",
    "from sklearn.metrics import mean_squared_error\n",
    "from sklearn.model_selection import RandomizedSearchCV\n",
    "from sklearn.model_selection import GridSearchCV\n",
    "from sklearn.ensemble import RandomForestRegressor\n",
    "\n",
    "df = pd.read_csv('winequality-red.csv')\n",
    "df.describe()"
   ]
  },
  {
   "cell_type": "code",
   "execution_count": null,
   "id": "faea9c52",
   "metadata": {},
   "outputs": [],
   "source": [
    "#Plot correlation matrix\n",
    "corrMatrix = df.corr()\n",
    "fig, ax = plt.subplots(figsize=(15,10))\n",
    "sns.heatmap(corrMatrix, annot=True)\n",
    "plt.show()"
   ]
  },
  {
   "cell_type": "code",
   "execution_count": null,
   "id": "06c67e95",
   "metadata": {},
   "outputs": [],
   "source": [
    "#Find fully correlated variables\n",
    "for a in range(len(df.corr().columns)):\n",
    "    for b in range(a):\n",
    "        if abs(df.corr().iloc[a,b]) > 0.67:\n",
    "            name = df.corr().columns[a]\n",
    "            print(name)"
   ]
  },
  {
   "cell_type": "code",
   "execution_count": null,
   "id": "a2e9270f",
   "metadata": {},
   "outputs": [],
   "source": [
    "#Bar plot (Quality vs alcohol)\n",
    "fig = plt.figure(figsize = (10,6))\n",
    "sns.barplot(x = 'quality', y = 'alcohol', data = df)"
   ]
  },
  {
   "cell_type": "code",
   "execution_count": null,
   "id": "6e43fecb",
   "metadata": {},
   "outputs": [],
   "source": [
    "#Bar plot (Quality vs sulphates)\n",
    "fig = plt.figure(figsize = (10,6))\n",
    "sns.barplot(x = 'quality', y = 'sulphates', data = df)"
   ]
  },
  {
   "cell_type": "code",
   "execution_count": null,
   "id": "a5d9f0df",
   "metadata": {},
   "outputs": [],
   "source": [
    "#Bar plot (Quality vs sulphates)\n",
    "fig = plt.figure(figsize = (10,6))\n",
    "sns.barplot(x = 'quality', y = 'total sulfur dioxide', data = df)"
   ]
  },
  {
   "cell_type": "code",
   "execution_count": null,
   "id": "584d3afc",
   "metadata": {},
   "outputs": [],
   "source": [
    "#Normalize\n",
    "sc = StandardScaler()\n",
    "norm_df = pd.DataFrame(sc.fit_transform(df))\n",
    "\n",
    "#Plot normalized correlation matrix\n",
    "corrMatrix = norm_df.corr()\n",
    "fig, ax = plt.subplots(figsize=(15,10))\n",
    "sns.heatmap(corrMatrix, annot=True)\n",
    "plt.show()"
   ]
  },
  {
   "cell_type": "code",
   "execution_count": null,
   "id": "9f946c19",
   "metadata": {},
   "outputs": [],
   "source": [
    "#scatter matrix\n",
    "pd.plotting.scatter_matrix(norm_df, alpha=0.2, figsize=(20,20), diagonal='hist')\n",
    "plt.show()"
   ]
  },
  {
   "cell_type": "code",
   "execution_count": null,
   "id": "ec386029",
   "metadata": {},
   "outputs": [],
   "source": [
    "df_new=df.drop('citric acid',axis=1)\n",
    "df_new.isnull().sum()\n",
    "df_new.update(df_new.fillna(df_new.mean()))\n",
    "\n",
    "x = df[['fixed acidity','volatile acidity','citric acid','residual sugar','chlorides','free sulfur dioxide','total sulfur dioxide','density','pH','sulphates','alcohol']]\n",
    "y = df['quality']\n",
    "\n",
    "#Split to train & test sets\n",
    "train, test, train_labels, test_labels = train_test_split(x, y, train_size=0.8, test_size=0.2, random_state=42)\n",
    "\n",
    "#Normalize\n",
    "sc = StandardScaler()\n",
    "norm_train_data = pd.DataFrame(sc.fit_transform(train), columns=x.columns)\n",
    "norm_test_data = pd.DataFrame(sc.fit_transform(test), columns=x.columns)"
   ]
  },
  {
   "cell_type": "code",
   "execution_count": null,
   "id": "2130a676",
   "metadata": {},
   "outputs": [],
   "source": [
    "#Random Forest Classifier\n",
    "rfc = RandomForestClassifier(n_estimators=100)\n",
    "rfc.fit(train, train_labels)\n",
    "#prediction\n",
    "pred = rfc.predict(test)\n",
    "print(\"Initial accuracy\")\n",
    "print('Accuracy of training data: ', rfc.score(train, train_labels))\n",
    "print('Accuracy of testing data: ',rfc.score(test, test_labels))"
   ]
  },
  {
   "cell_type": "code",
   "execution_count": null,
   "id": "d502e9a3",
   "metadata": {},
   "outputs": [],
   "source": [
    "#Random Forest Classifier\n",
    "rfc = RandomForestClassifier(n_estimators=100)\n",
    "rfc.fit(train, train_labels)\n",
    "#prediction\n",
    "pred = rfc.predict(test)\n",
    "print(\"Initial accuracy\")\n",
    "print('Accuracy of training data: ', rfc.score(train, train_labels))\n",
    "print('Accuracy of testing data: ',rfc.score(test, test_labels))"
   ]
  },
  {
   "cell_type": "code",
   "execution_count": null,
   "id": "46a15b73",
   "metadata": {},
   "outputs": [],
   "source": [
    "#create new data frame with original and predicted values\n",
    "pred_df = {'Original Values': test_labels, 'Predicted Values':pred}\n",
    "pd.DataFrame(pred_df).head(50)"
   ]
  },
  {
   "cell_type": "code",
   "execution_count": null,
   "id": "d41a91c5",
   "metadata": {},
   "outputs": [],
   "source": [
    "#tune rfc parameters for a random grid search\n",
    "print('Parameters currently in use:\\n')\n",
    "print(rf.get_params())\n",
    "\n",
    "n_estimators = [int(x) for x in np.linspace(start = 200, stop = 2000, num = 10)]\n",
    "max_features = ['sqrt']\n",
    "max_depth = [int(x) for x in np.linspace(10, 110, num = 11)]\n",
    "min_samples_split = [2, 5, 10]\n",
    "min_samples_leaf = [1, 2, 4, 6]\n",
    "bootstrap = [True, False]\n",
    "\n",
    "random_grid = {'n_estimators': n_estimators,\n",
    "               'max_features': max_features,\n",
    "               'max_depth': max_depth,\n",
    "               'min_samples_split': min_samples_split,\n",
    "               'min_samples_leaf': min_samples_leaf,\n",
    "               'bootstrap': bootstrap}\n",
    "\n",
    "rf = RandomForestClassifier()\n",
    "rf_random = RandomizedSearchCV(estimator = rf, param_distributions = random_grid, n_iter = 100, cv = 3, verbose=2, random_state=42, n_jobs = -1)\n",
    "rf_random.fit(train, train_labels)\n",
    "\n",
    "print(rf_random.best_params_)"
   ]
  },
  {
   "cell_type": "code",
   "execution_count": null,
   "id": "c41a7b74",
   "metadata": {},
   "outputs": [],
   "source": [
    "print(\"Accuracy after Randomized Search\")\n",
    "print('New accuracy of training data: ',rf_random.score(train, train_labels))\n",
    "print('New accuracy of testing data: ',rf_random.score(test, test_labels))"
   ]
  },
  {
   "cell_type": "code",
   "execution_count": null,
   "id": "c0ee9e93",
   "metadata": {},
   "outputs": [],
   "source": [
    "# Create the parameter grid based on the results of random search \n",
    "param_grid = {\n",
    "    'bootstrap': [False],\n",
    "    'max_depth': [30, 40, 50, 60, 70],\n",
    "    'max_features': ['sqrt'],\n",
    "    'min_samples_leaf': [1, 2, 3],\n",
    "    'min_samples_split': [2, 4, 6],\n",
    "    'n_estimators': [1000, 1200, 1400]\n",
    "}\n",
    "\n",
    "rf = RandomForestClassifier()\n",
    "\n",
    "grid_search = GridSearchCV(estimator = rf, param_grid = param_grid, cv = 3, n_jobs = -1, verbose = 2)\n",
    "\n",
    "grid_search.fit(train, train_labels)\n",
    "\n",
    "print(grid_search.best_params_)"
   ]
  },
  {
   "cell_type": "code",
   "execution_count": null,
   "id": "a1c563ba",
   "metadata": {},
   "outputs": [],
   "source": [
    "print(\"Accuracy after Grid Search\")\n",
    "print('Accuracy of training data: ',grid_search.score(train, train_labels))\n",
    "print('Accuracy of testing data: ',grid_search.score(test, test_labels))"
   ]
  },
  {
   "cell_type": "code",
   "execution_count": null,
   "id": "15c8b254",
   "metadata": {},
   "outputs": [],
   "source": [
    "# Accuracy decreased after performing grid search, proving that our initial model predicted the quality of wine more accuratly."
   ]
  },
  {
   "cell_type": "code",
   "execution_count": null,
   "id": "5ee29824",
   "metadata": {},
   "outputs": [],
   "source": [
    "# Plot of original values vs predicted values from initial model.\n",
    "pred_plot = pd.DataFrame(pred_df)\n",
    "pred_plot.plot.hist(alpha=0.5)"
   ]
  }
 ],
 "metadata": {
  "kernelspec": {
   "display_name": "Python 3 (ipykernel)",
   "language": "python",
   "name": "python3"
  },
  "language_info": {
   "codemirror_mode": {
    "name": "ipython",
    "version": 3
   },
   "file_extension": ".py",
   "mimetype": "text/x-python",
   "name": "python",
   "nbconvert_exporter": "python",
   "pygments_lexer": "ipython3",
   "version": "3.9.7"
  }
 },
 "nbformat": 4,
 "nbformat_minor": 5
}
